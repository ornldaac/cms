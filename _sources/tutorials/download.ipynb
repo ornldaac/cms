{
 "cells": [
  {
   "cell_type": "markdown",
   "id": "107d0529-d512-492c-8963-4367f1a60df7",
   "metadata": {},
   "source": [
    "# Download CMS Datasets"
   ]
  },
  {
   "cell_type": "code",
   "execution_count": null,
   "id": "0d61a74e-56cb-4a68-b0a3-dc638aae0d11",
   "metadata": {},
   "outputs": [],
   "source": []
  }
 ],
 "metadata": {
  "kernelspec": {
   "display_name": "Python 3 (ipykernel)",
   "language": "python",
   "name": "python3"
  },
  "language_info": {
   "codemirror_mode": {
    "name": "ipython",
    "version": 3
   },
   "file_extension": ".py",
   "mimetype": "text/x-python",
   "name": "python",
   "nbconvert_exporter": "python",
   "pygments_lexer": "ipython3",
   "version": "3.10.13"
  }
 },
 "nbformat": 4,
 "nbformat_minor": 5
}
